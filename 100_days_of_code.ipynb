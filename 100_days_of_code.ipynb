{
 "cells": [
  {
   "cell_type": "markdown",
   "metadata": {},
   "source": [
    "### Day 1\n",
    "Implement a function that receives two IPv4 addresses, and returns the number of addresses between them (including the first one, excluding the last one).\n",
    "\n",
    "All inputs will be valid IPv4 addresses in the form of strings. The last address will always be greater than the first one.\n",
    "\n",
    "https://www.codewars.com/kata/526989a41034285187000de4/train/python"
   ]
  },
  {
   "cell_type": "code",
   "execution_count": 32,
   "metadata": {},
   "outputs": [],
   "source": [
    "def ips_between(start, end):\n",
    "    end_value = sum([int(x) * (256**index) for index, x in enumerate(end.split(\".\")[::-1])])\n",
    "    start_value = sum([int(x) * (256**index) for index, x in enumerate(start.split(\".\")[::-1])])\n",
    "    return end_value-start_value\n"
   ]
  },
  {
   "cell_type": "code",
   "execution_count": 33,
   "metadata": {},
   "outputs": [
    {
     "data": {
      "text/plain": [
       "True"
      ]
     },
     "execution_count": 33,
     "metadata": {},
     "output_type": "execute_result"
    }
   ],
   "source": [
    "a =\"236.202.78.154\"\n",
    "b = \"237.13.58.124\"\n",
    "ips_between(a,b) == 4385762\n",
    "test.assert_equals()\n",
    "test.assert_equals()\n"
   ]
  },
  {
   "cell_type": "code",
   "execution_count": 30,
   "metadata": {},
   "outputs": [
    {
     "data": {
      "text/plain": [
       "3972681370"
      ]
     },
     "execution_count": 30,
     "metadata": {},
     "output_type": "execute_result"
    }
   ],
   "source": [
    "sum([int(x) * (256**index) for index, x in enumerate(a.split(\".\")[::-1])])"
   ]
  },
  {
   "cell_type": "code",
   "execution_count": 31,
   "metadata": {},
   "outputs": [
    {
     "data": {
      "text/plain": [
       "[124, 14848, 851968, 3976200192]"
      ]
     },
     "execution_count": 31,
     "metadata": {},
     "output_type": "execute_result"
    }
   ],
   "source": [
    "[int(x) * (256**index) for index, x in enumerate(b.split(\".\")[::-1])]"
   ]
  },
  {
   "cell_type": "code",
   "execution_count": 34,
   "metadata": {},
   "outputs": [],
   "source": [
    "assert ips_between(\"10.0.0.0\", \"10.0.0.50\") == 50\n",
    "assert ips_between(\"20.0.0.10\", \"20.0.1.0\") == 246\n",
    "assert ips_between(\"236.202.78.154\", \"237.13.58.124\") == 246"
   ]
  },
  {
   "cell_type": "code",
   "execution_count": null,
   "metadata": {},
   "outputs": [],
   "source": []
  }
 ],
 "metadata": {
  "kernelspec": {
   "display_name": "Python 3",
   "language": "python",
   "name": "python3"
  },
  "language_info": {
   "codemirror_mode": {
    "name": "ipython",
    "version": 3
   },
   "file_extension": ".py",
   "mimetype": "text/x-python",
   "name": "python",
   "nbconvert_exporter": "python",
   "pygments_lexer": "ipython3",
   "version": "3.8.3"
  }
 },
 "nbformat": 4,
 "nbformat_minor": 4
}
